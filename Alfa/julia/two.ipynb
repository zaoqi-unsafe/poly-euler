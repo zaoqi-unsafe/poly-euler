{
 "cells": [
  {
   "cell_type": "code",
   "execution_count": 2,
   "metadata": {
    "collapsed": false
   },
   "outputs": [
    {
     "ename": "LoadError",
     "evalue": "interrupt\nwhile loading In[2], in expression starting on line 56",
     "output_type": "error",
     "traceback": [
      "interrupt\nwhile loading In[2], in expression starting on line 56",
      "",
      " in vcat at /usr/local/Cellar/julia/0.3.10/lib/julia/sys.dylib"
     ]
    }
   ],
   "source": [
    "@time sum(1:10^12)"
   ]
  },
  {
   "cell_type": "code",
   "execution_count": 11,
   "metadata": {
    "collapsed": false
   },
   "outputs": [
    {
     "data": {
      "text/plain": [
       "sol98 (generic function with 1 method)"
      ]
     },
     "execution_count": 11,
     "metadata": {},
     "output_type": "execute_result"
    }
   ],
   "source": [
    "function sol98 ()\n",
    "    tmp = split(replace(open(readall,\"p98.txt\"), \"\\\"\",\"\"), \",\")\n",
    "end"
   ]
  },
  {
   "cell_type": "code",
   "execution_count": 36,
   "metadata": {
    "collapsed": false
   },
   "outputs": [
    {
     "data": {
      "text/plain": [
       "Dict{Any,Any} with 14 entries:\n",
       "  2  => (WE US UP TO SO OR ON OF NO MY ME IT IS IN IF HE GO DO BY BE AT AS AN)\n",
       "  11 => (TRADITIONAL TEMPERATURE SUBSTANTIAL SIGNIFICANT RESPONSIBLE REQUIREMEN…\n",
       "  7  => (WRITING WORKING WITHOUT WHETHER WHEREAS WESTERN WELFARE WELCOME WEEKEN…\n",
       "  9  => (YESTERDAY WONDERFUL VARIATION UNDERTAKE TREATMENT TRANSPORT TRADITION …\n",
       "  10 => (UNIVERSITY UNDERSTAND THROUGHOUT THEMSELVES TELEVISION TECHNOLOGY SUGG…\n",
       "  8  => (YOURSELF WITHDRAW WHATEVER VIOLENCE UNLIKELY TRANSFER TRAINING TOMORRO…\n",
       "  6  => (WRITER WORKER WONDER WITHIN WINTER WINNER WINDOW WIDELY WHILST WEIGHT …\n",
       "  4  => (YOUR YEAR YEAH YARD WORK WORD WOOD WITH WISH WING WINE WIND WILL WILD …\n",
       "  3  => (YOU YET YES WIN WHY WHO WAY WAR VIA USE TRY TOP TOO THE TEA TAX SUN SU…\n",
       "  5  => (YOUTH YOUNG WRONG WRITE WOULD WORTH WORRY WORLD WORKS WOMAN WHOSE WHOL…\n",
       "  14 => (RESPONSIBILITY REPRESENTATIVE REPRESENTATION INTERPRETATION CHARACTERI…\n",
       "  13 => (UNFORTUNATELY UNDERSTANDING INVESTIGATION INTERNATIONAL ESTABLISHMENT …\n",
       "  12 => (UNEMPLOYMENT SIGNIFICANCE RELATIONSHIP PROFESSIONAL PARTICULARLY ORGAN…\n",
       "  1  => (I A)"
      ]
     },
     "execution_count": 36,
     "metadata": {},
     "output_type": "execute_result"
    }
   ],
   "source": [
    "group_by(length,apply(list,sol98()))"
   ]
  },
  {
   "cell_type": "code",
   "execution_count": 25,
   "metadata": {
    "collapsed": false
   },
   "outputs": [
    {
     "name": "stdout",
     "output_type": "stream",
     "text": [
      "s\n",
      "a\n",
      "b\n",
      "d\n",
      "a\n"
     ]
    }
   ],
   "source": [
    "for i in \"sabda\" println(i) end"
   ]
  },
  {
   "cell_type": "code",
   "execution_count": 1,
   "metadata": {
    "collapsed": false
   },
   "outputs": [
    {
     "data": {
      "text/plain": [
       "ispsqr (generic function with 1 method)"
      ]
     },
     "execution_count": 1,
     "metadata": {},
     "output_type": "execute_result"
    }
   ],
   "source": [
    "include(\"Common.jl\")"
   ]
  },
  {
   "cell_type": "code",
   "execution_count": null,
   "metadata": {
    "collapsed": true
   },
   "outputs": [],
   "source": []
  }
 ],
 "metadata": {
  "kernelspec": {
   "display_name": "Julia 0.3.10",
   "language": "julia",
   "name": "julia-0.3"
  },
  "language_info": {
   "name": "julia",
   "version": "0.3.10"
  }
 },
 "nbformat": 4,
 "nbformat_minor": 0
}
