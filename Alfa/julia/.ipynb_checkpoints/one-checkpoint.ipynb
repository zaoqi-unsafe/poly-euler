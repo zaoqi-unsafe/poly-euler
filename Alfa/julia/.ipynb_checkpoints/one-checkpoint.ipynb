{
 "cells": [
  {
   "cell_type": "code",
   "execution_count": null,
   "metadata": {
    "collapsed": false
   },
   "outputs": [],
   "source": [
    "@time sol357(10^8)"
   ]
  },
  {
   "cell_type": "code",
   "execution_count": 128,
   "metadata": {
    "collapsed": false
   },
   "outputs": [
    {
     "data": {
      "text/plain": [
       "lotdivs (generic function with 1 method)"
      ]
     },
     "execution_count": 128,
     "metadata": {},
     "output_type": "execute_result"
    }
   ],
   "source": [
    "function lotdivs(lim :: Int)\n",
    "    refs :: Array = Array(Array,lim)\n",
    "    for i = 1:lim\n",
    "        refs[i] = [1]\n",
    "    end\n",
    "    llim :: Int = isqrt(lim)\n",
    "    for i = 2:lim\n",
    "        for j = i*i:i:lim\n",
    "            push!(refs[j],i)\n",
    "        end\n",
    "    end\n",
    "    refs\n",
    "end"
   ]
  },
  {
   "cell_type": "code",
   "execution_count": 162,
   "metadata": {
    "collapsed": false
   },
   "outputs": [
    {
     "data": {
      "text/plain": [
       "sol357 (generic function with 1 method)"
      ]
     },
     "execution_count": 162,
     "metadata": {},
     "output_type": "execute_result"
    }
   ],
   "source": [
    "function sol357(lim::Int)\n",
    "    llim2 :: Int = isqrt(1+lim)\n",
    "    pref :: Array = trues(1+lim)\n",
    "    for i = 3:2:llim2\n",
    "        if pref[i]\n",
    "            for j = i*i:i*2:1+lim\n",
    "                pref[j] = false \n",
    "            end\n",
    "        end\n",
    "    end\n",
    "    refs :: Array = Array(Array,lim)\n",
    "    for i = 1:lim\n",
    "        refs[i] = [1]\n",
    "    end\n",
    "    llim :: Int = isqrt(lim)\n",
    "    for i = 2:llim\n",
    "        for j = i*i:i:lim\n",
    "            push!(refs[j],i)\n",
    "        end\n",
    "    end\n",
    "    res :: Int = 0\n",
    "    for i = 1:lim\n",
    "        ember = true\n",
    "        for r in refs[i]\n",
    "            tmp = r + div(i,r)\n",
    "            if iseven(tmp)\n",
    "                ember = false\n",
    "                break\n",
    "            elseif !pref[tmp]\n",
    "                ember = false\n",
    "                break\n",
    "            end\n",
    "        end\n",
    "        if ember\n",
    "            res += i\n",
    "        end\n",
    "    end\n",
    "    res\n",
    "end"
   ]
  },
  {
   "cell_type": "code",
   "execution_count": 100,
   "metadata": {
    "collapsed": false
   },
   "outputs": [
    {
     "data": {
      "text/plain": [
       "rtprimes (generic function with 1 method)"
      ]
     },
     "execution_count": 100,
     "metadata": {},
     "output_type": "execute_result"
    }
   ],
   "source": [
    "function rtprimes(lim :: Int)\n",
    "    start :: Array = [[2],[3],[5],[7]]\n",
    "    bahan :: Array{Int} = [1,3,7,9]\n",
    "    while true \n",
    "        for s in start\n",
    "            tmp = s\n",
    "            for b in bahan\n",
    "                \n",
    "end\n",
    "    "
   ]
  },
  {
   "cell_type": "code",
   "execution_count": 85,
   "metadata": {
    "collapsed": false
   },
   "outputs": [
    {
     "data": {
      "text/plain": [
       "isharshad (generic function with 1 method)"
      ]
     },
     "execution_count": 85,
     "metadata": {},
     "output_type": "execute_result"
    }
   ],
   "source": [
    "function isharshad(n :: Int)\n",
    "    0 == rem(n,sum(numcol(n)))\n",
    "end"
   ]
  },
  {
   "cell_type": "code",
   "execution_count": 81,
   "metadata": {
    "collapsed": false
   },
   "outputs": [
    {
     "data": {
      "text/plain": [
       "24"
      ]
     },
     "execution_count": 81,
     "metadata": {},
     "output_type": "execute_result"
    }
   ],
   "source": [
    "sum(digits(123423432))"
   ]
  },
  {
   "cell_type": "code",
   "execution_count": 77,
   "metadata": {
    "collapsed": false
   },
   "outputs": [
    {
     "name": "stdout",
     "output_type": "stream",
     "text": [
      "elapsed time: 2.06363794 seconds (246719472 bytes allocated, 1.33% gc time)\n",
      "22632818  elapsed time: 2.125575371 seconds (246719424 bytes allocated, 1.13% gc time)\n",
      "22632818  elapsed time: 2.061061345 seconds (246719424 bytes allocated, 1.13% gc time)\n",
      "22632818  elapsed time: 2.292630082 seconds (246719440 bytes allocated, 1.01% gc time)\n",
      "22632818  elapsed time: 2.284224624 seconds (246719424 bytes allocated, 1.14% gc time)\n",
      "22632818  "
     ]
    }
   ],
   "source": [
    "for i = 1:5 \n",
    "    @time res = sol429(10^8)\n",
    "    print(res, \"  \")\n",
    "end"
   ]
  },
  {
   "cell_type": "code",
   "execution_count": 70,
   "metadata": {
    "collapsed": false
   },
   "outputs": [
    {
     "data": {
      "text/plain": [
       "sol429 (generic function with 1 method)"
      ]
     },
     "execution_count": 70,
     "metadata": {},
     "output_type": "execute_result"
    }
   ],
   "source": [
    "function sol429(lim :: Int)\n",
    "    modi :: Int = 1000000009\n",
    "    refs :: Array{Bool} = trues(lim)\n",
    "    llim :: Int = isqrt(lim)\n",
    "    for i = 3:2:llim\n",
    "        if refs[i]\n",
    "            for j = i*i:2*i:lim\n",
    "                refs[j] = false \n",
    "            end\n",
    "        end\n",
    "    end\n",
    "    res = [powermod(2,maxexpt(2,lim),modi)]\n",
    "    for i = 3:2:lim\n",
    "        if refs[i]\n",
    "            push!(res,powermod(i,maxexpt(i,lim),modi))\n",
    "        end\n",
    "    end\n",
    "    muls :: Int = 1\n",
    "    for r in res \n",
    "        muls = modmul(muls,1+(r^2),modi)\n",
    "    end\n",
    "    muls\n",
    "end"
   ]
  },
  {
   "cell_type": "code",
   "execution_count": 67,
   "metadata": {
    "collapsed": false
   },
   "outputs": [
    {
     "data": {
      "text/plain": [
       "modmul (generic function with 1 method)"
      ]
     },
     "execution_count": 67,
     "metadata": {},
     "output_type": "execute_result"
    }
   ],
   "source": [
    "function modmul(a :: Int,b :: Int,modi :: Int)\n",
    "    rem(a*b,modi)\n",
    "end"
   ]
  },
  {
   "cell_type": "code",
   "execution_count": 73,
   "metadata": {
    "collapsed": false
   },
   "outputs": [
    {
     "data": {
      "text/plain": [
       "715711976"
      ]
     },
     "execution_count": 73,
     "metadata": {},
     "output_type": "execute_result"
    }
   ],
   "source": [
    "sol429(factorial(4))"
   ]
  },
  {
   "cell_type": "code",
   "execution_count": 74,
   "metadata": {
    "collapsed": false
   },
   "outputs": [
    {
     "data": {
      "text/plain": [
       "maxexpt (generic function with 1 method)"
      ]
     },
     "execution_count": 74,
     "metadata": {},
     "output_type": "execute_result"
    }
   ],
   "source": [
    "function maxexpt(p :: Int, lim::Int)\n",
    "    i :: Int = 1\n",
    "    res :: Int = 0\n",
    "    while true \n",
    "        tmp = p^i\n",
    "        if tmp > lim\n",
    "            return res\n",
    "        else \n",
    "            res += div(lim,tmp)\n",
    "        end\n",
    "        i += 1\n",
    "    end\n",
    "end"
   ]
  },
  {
   "cell_type": "code",
   "execution_count": 19,
   "metadata": {
    "collapsed": false
   },
   "outputs": [
    {
     "data": {
      "text/plain": [
       "uniDivisors (generic function with 1 method)"
      ]
     },
     "execution_count": 19,
     "metadata": {},
     "output_type": "execute_result"
    }
   ],
   "source": [
    "function uniDivisors(n::Int)\n",
    "    lim :: Int = isqrt(n)\n",
    "    res :: Array{Int} = Int[]\n",
    "    for i = 1:lim\n",
    "        if 0 == rem(n,i)\n",
    "            divs :: Int = div(n,i)\n",
    "            if 1 == gcd(divs,i)\n",
    "                push!(res,i)\n",
    "                push!(res,divs)\n",
    "            end\n",
    "        end\n",
    "    end\n",
    "    res\n",
    "end"
   ]
  },
  {
   "cell_type": "code",
   "execution_count": 14,
   "metadata": {
    "collapsed": false
   },
   "outputs": [
    {
     "data": {
      "text/plain": [
       "prodmod (generic function with 1 method)"
      ]
     },
     "execution_count": 14,
     "metadata": {},
     "output_type": "execute_result"
    }
   ],
   "source": [
    "function prodmod(xs :: Array{Int}, modi::Int)\n",
    "    res :: Int = 1\n",
    "    for x in xs \n",
    "        res = rem(x*res,modi)\n",
    "    end\n",
    "    res\n",
    "end"
   ]
  },
  {
   "cell_type": "code",
   "execution_count": 6,
   "metadata": {
    "collapsed": false
   },
   "outputs": [
    {
     "data": {
      "text/plain": [
       "fakmod (generic function with 1 method)"
      ]
     },
     "execution_count": 6,
     "metadata": {},
     "output_type": "execute_result"
    }
   ],
   "source": [
    "function fakmod(n :: Int, modi :: Int)\n",
    "    res :: Int = 1\n",
    "    for i = 2:n\n",
    "        res = rem(res*i,modi)\n",
    "    end\n",
    "    res\n",
    "end"
   ]
  },
  {
   "cell_type": "code",
   "execution_count": 31,
   "metadata": {
    "collapsed": false
   },
   "outputs": [
    {
     "data": {
      "text/plain": [
       "1-element Array{Int64,1}:\n",
       " 512"
      ]
     },
     "execution_count": 31,
     "metadata": {},
     "output_type": "execute_result"
    }
   ],
   "source": []
  },
  {
   "cell_type": "code",
   "execution_count": 36,
   "metadata": {
    "collapsed": false
   },
   "outputs": [
    {
     "data": {
      "text/plain": [
       "sol429 (generic function with 1 method)"
      ]
     },
     "execution_count": 36,
     "metadata": {},
     "output_type": "execute_result"
    }
   ],
   "source": [
    "\n",
    "    "
   ]
  },
  {
   "cell_type": "code",
   "execution_count": 1,
   "metadata": {
    "collapsed": false
   },
   "outputs": [
    {
     "data": {
      "text/plain": [
       "ispsqr (generic function with 1 method)"
      ]
     },
     "execution_count": 1,
     "metadata": {},
     "output_type": "execute_result"
    }
   ],
   "source": [
    "include(\"Common.jl\")"
   ]
  },
  {
   "cell_type": "code",
   "execution_count": 3,
   "metadata": {
    "collapsed": false
   },
   "outputs": [
    {
     "data": {
      "text/plain": [
       "testi (generic function with 1 method)"
      ]
     },
     "execution_count": 3,
     "metadata": {},
     "output_type": "execute_result"
    }
   ],
   "source": [
    "function testi(f,input)\n",
    "    for i = 1:10\n",
    "        @time res = f(input)\n",
    "        println(res)\n",
    "    end\n",
    "end"
   ]
  },
  {
   "cell_type": "code",
   "execution_count": 88,
   "metadata": {
    "collapsed": false
   },
   "outputs": [
    {
     "data": {
      "text/plain": [
       "sumsieve (generic function with 1 method)"
      ]
     },
     "execution_count": 88,
     "metadata": {},
     "output_type": "execute_result"
    }
   ],
   "source": [
    "function sumsieve(lim::Int)\n",
    "    refs :: Array{Bool}, res :: Int , llim :: Int = trues(lim), 2, isqrt(lim)\n",
    "    for i = 3:2:llim \n",
    "        if refs[i]\n",
    "            for j = i*i:2*i:lim \n",
    "                refs[j] = false \n",
    "            end\n",
    "            res += i\n",
    "        end\n",
    "    end\n",
    "    num :: Int = 0 == rem(llim,2) ? llim+1 : llim + 2\n",
    "    for i = num:2:lim\n",
    "        if refs[i]\n",
    "            res += i\n",
    "        end\n",
    "    end\n",
    "    return res \n",
    "end"
   ]
  },
  {
   "cell_type": "code",
   "execution_count": 1,
   "metadata": {
    "collapsed": false
   },
   "outputs": [
    {
     "data": {
      "text/plain": [
       "ispsqr (generic function with 1 method)"
      ]
     },
     "execution_count": 1,
     "metadata": {},
     "output_type": "execute_result"
    }
   ],
   "source": [
    "include(\"Common.jl\")"
   ]
  },
  {
   "cell_type": "code",
   "execution_count": null,
   "metadata": {
    "collapsed": true
   },
   "outputs": [],
   "source": []
  }
 ],
 "metadata": {
  "kernelspec": {
   "display_name": "Julia 0.3.10",
   "language": "julia",
   "name": "julia-0.3"
  },
  "language_info": {
   "name": "julia",
   "version": "0.3.10"
  }
 },
 "nbformat": 4,
 "nbformat_minor": 0
}
