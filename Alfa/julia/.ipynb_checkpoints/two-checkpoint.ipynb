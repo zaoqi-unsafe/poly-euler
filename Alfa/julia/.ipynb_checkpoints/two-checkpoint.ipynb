{
 "cells": [
  {
   "cell_type": "code",
   "execution_count": 6,
   "metadata": {
    "collapsed": false
   },
   "outputs": [
    {
     "data": {
      "text/plain": [
       "3"
      ]
     },
     "execution_count": 6,
     "metadata": {},
     "output_type": "execute_result"
    }
   ],
   "source": [
    "int(3.2)"
   ]
  },
  {
   "cell_type": "code",
   "execution_count": 2,
   "metadata": {
    "collapsed": false
   },
   "outputs": [
    {
     "data": {
      "text/plain": [
       "25-element Array{Int64,1}:\n",
       "  2\n",
       "  3\n",
       "  5\n",
       "  7\n",
       " 11\n",
       " 13\n",
       " 17\n",
       " 19\n",
       " 23\n",
       " 29\n",
       " 31\n",
       " 37\n",
       " 41\n",
       " 43\n",
       " 47\n",
       " 53\n",
       " 59\n",
       " 61\n",
       " 67\n",
       " 71\n",
       " 73\n",
       " 79\n",
       " 83\n",
       " 89\n",
       " 97"
      ]
     },
     "execution_count": 2,
     "metadata": {},
     "output_type": "execute_result"
    }
   ],
   "source": [
    "function s (p, q, n):\n",
    "    t :: Int, m :: Int = 1, 1\n",
    "    for a in r1:int ((log (n))/(log (p)) + 1.0)\n",
    "        t *= p\n",
    "        b = int ((log (n//t))/(log (q)))\n",
    "        if b < 1\n",
    "            break\n",
    "        end\n",
    "        if p^a*q^b > m\n",
    "            m = p^a*q^b\n",
    "        end\n",
    "    end\n",
    "    return m \n",
    "end\n",
    "    \n",
    "function sol357(n :: Int)\n",
    "    primeso = sieve (n)\n",
    "    total = 0 \n",
    "    for i in range (len (primes)):\n",
    "        for j in range (i+1, len (primes)):\n",
    "            p, q = primes[i], primes[j]\n",
    "            if p*q > n:\n",
    "                break\n",
    "            else\n",
    "                total += s (p, q, n)\n",
    "                total\n",
    "            end"
   ]
  },
  {
   "cell_type": "code",
   "execution_count": 1,
   "metadata": {
    "collapsed": false
   },
   "outputs": [
    {
     "data": {
      "text/plain": [
       "ispsqr (generic function with 1 method)"
      ]
     },
     "execution_count": 1,
     "metadata": {},
     "output_type": "execute_result"
    }
   ],
   "source": [
    "include(\"Common.jl\")"
   ]
  }
 ],
 "metadata": {
  "kernelspec": {
   "display_name": "Julia 0.3.10",
   "language": "julia",
   "name": "julia-0.3"
  },
  "language_info": {
   "name": "julia",
   "version": "0.3.10"
  }
 },
 "nbformat": 4,
 "nbformat_minor": 0
}
