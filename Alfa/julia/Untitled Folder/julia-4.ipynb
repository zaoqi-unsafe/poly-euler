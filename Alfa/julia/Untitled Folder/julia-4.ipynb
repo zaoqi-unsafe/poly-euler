{
 "cells": [
  {
   "cell_type": "code",
   "execution_count": 12,
   "metadata": {
    "collapsed": false
   },
   "outputs": [
    {
     "data": {
      "text/plain": [
       "4-element Array{Int64,1}:\n",
       " 1\n",
       " 2\n",
       " 3\n",
       " 4"
      ]
     },
     "execution_count": 12,
     "metadata": {},
     "output_type": "execute_result"
    }
   ],
   "source": [
    "m"
   ]
  },
  {
   "cell_type": "code",
   "execution_count": 7,
   "metadata": {
    "collapsed": false
   },
   "outputs": [
    {
     "data": {
      "text/plain": [
       "sol3b (generic function with 1 method)"
      ]
     },
     "execution_count": 7,
     "metadata": {},
     "output_type": "execute_result"
    }
   ],
   "source": [
    "function sol3b(tar::Int)\n",
    "    n :: Int, i :: Int = tar,3\n",
    "    while !odd_prime(i) && 0 != rem(n,i)\n",
    "        i += 2\n",
    "    end\n",
    "    while 0 == rem(n,i)\n",
    "        n = div(n,i)\n",
    "    end\n",
    "    i += 2\n",
    "    return n\n",
    "end"
   ]
  },
  {
   "cell_type": "code",
   "execution_count": 3,
   "metadata": {
    "collapsed": false
   },
   "outputs": [
    {
     "data": {
      "text/plain": [
       "sol3 (generic function with 1 method)"
      ]
     },
     "execution_count": 3,
     "metadata": {},
     "output_type": "execute_result"
    }
   ],
   "source": [
    "function sol3(tar::Int)\n",
    "    n :: Int, i :: Int, cur :: Int = tar,3,tar\n",
    "    while true\n",
    "        if odd_prime(i)\n",
    "            while 0 == rem(n,i)\n",
    "                n = div(n,i)\n",
    "            end\n",
    "            if n == 1\n",
    "                return cur\n",
    "            else cur = n\n",
    "            end\n",
    "        end\n",
    "        i += 2\n",
    "    end\n",
    "end"
   ]
  },
  {
   "cell_type": "code",
   "execution_count": 2,
   "metadata": {
    "collapsed": false
   },
   "outputs": [
    {
     "data": {
      "text/plain": [
       "odd_prime (generic function with 1 method)"
      ]
     },
     "execution_count": 2,
     "metadata": {},
     "output_type": "execute_result"
    }
   ],
   "source": [
    "function odd_prime(n::Int)\n",
    "    for i = 3:2:isqrt(n)\n",
    "        if 0 == rem(n,i)\n",
    "            return false\n",
    "        end\n",
    "    end\n",
    "    return true\n",
    "end"
   ]
  },
  {
   "cell_type": "code",
   "execution_count": 24,
   "metadata": {
    "collapsed": false
   },
   "outputs": [
    {
     "data": {
      "text/plain": [
       "sol174 (generic function with 1 method)"
      ]
     },
     "execution_count": 24,
     "metadata": {},
     "output_type": "execute_result"
    }
   ],
   "source": [
    "function sol174(lim :: Int) \n",
    "    ctr :: Array{Int,1} = zeros(Int,lim)\n",
    "    res :: Int = 0\n",
    "    i :: Int = 1\n",
    "    while true \n",
    "        isqr :: Int = i*i \n",
    "        tmp :: Int = (i+2)^2-isqr\n",
    "        if tmp > lim \n",
    "            break\n",
    "        else\n",
    "            j :: Int = i+2\n",
    "            jsqr :: Int = j*j\n",
    "            jtmp :: Int = jsqr-isqr\n",
    "            while true \n",
    "                if jtmp > lim \n",
    "                    break\n",
    "                else\n",
    "                    ctr[jtmp] += 1\n",
    "                    j += 2\n",
    "                    jsqr = j*j\n",
    "                    jtmp = jsqr-isqr\n",
    "                end\n",
    "            end\n",
    "            i += 1\n",
    "        end\n",
    "    end\n",
    "    for k = 4:4:lim \n",
    "        m :: Int = ctr[k]\n",
    "        if 1 <= m && m <= 10 \n",
    "            res += 1\n",
    "        end\n",
    "    end\n",
    "    return res\n",
    "end\n",
    "                "
   ]
  },
  {
   "cell_type": "code",
   "execution_count": 14,
   "metadata": {
    "collapsed": false
   },
   "outputs": [
    {
     "data": {
      "text/plain": [
       "13-element Array{Int64,1}:\n",
       "  20\n",
       "  48\n",
       "  84\n",
       " 128\n",
       " 180\n",
       " 240\n",
       " 308\n",
       " 384\n",
       " 468\n",
       " 560\n",
       " 660\n",
       " 768\n",
       " 884"
      ]
     },
     "execution_count": 14,
     "metadata": {},
     "output_type": "execute_result"
    }
   ],
   "source": [
    "map(x -> x^2 - 16, 6:2:30)"
   ]
  },
  {
   "cell_type": "code",
   "execution_count": 12,
   "metadata": {
    "collapsed": false
   },
   "outputs": [
    {
     "name": "stdout",
     "output_type": "stream",
     "text": [
      "  "
     ]
    },
    {
     "data": {
      "text/plain": [
       "1572729"
      ]
     },
     "execution_count": 12,
     "metadata": {},
     "output_type": "execute_result"
    },
    {
     "name": "stdout",
     "output_type": "stream",
     "text": [
      " 2.155 milliseconds (5 allocations: 160 bytes)\n"
     ]
    }
   ],
   "source": [
    "@time sol173(1000000)"
   ]
  },
  {
   "cell_type": "code",
   "execution_count": 10,
   "metadata": {
    "collapsed": false
   },
   "outputs": [
    {
     "data": {
      "text/plain": [
       "sol173 (generic function with 1 method)"
      ]
     },
     "execution_count": 10,
     "metadata": {},
     "output_type": "execute_result"
    }
   ],
   "source": [
    "function sol173(lim :: Int) \n",
    "    res :: Int = 0\n",
    "    i :: Int = 1\n",
    "    while true \n",
    "        isqr :: Int = i*i \n",
    "        tmp :: Int = (i+2)^2-isqr\n",
    "        if tmp > lim \n",
    "            return res \n",
    "        else\n",
    "            j :: Int = i+2\n",
    "            jsqr :: Int = j*j\n",
    "            while true \n",
    "                if jsqr-isqr > lim \n",
    "                    break\n",
    "                else\n",
    "                    res += 1\n",
    "                    j += 2\n",
    "                    jsqr = j*j\n",
    "                end\n",
    "            end\n",
    "            i += 1\n",
    "        end\n",
    "    end\n",
    "end\n",
    "                "
   ]
  }
 ],
 "metadata": {
  "kernelspec": {
   "display_name": "Julia 0.4.0-dev",
   "language": "julia",
   "name": "julia-0.4"
  },
  "language_info": {
   "name": "julia",
   "version": "0.4.0"
  }
 },
 "nbformat": 4,
 "nbformat_minor": 0
}
