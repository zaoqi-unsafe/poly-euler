{
 "cells": [
  {
   "cell_type": "code",
   "execution_count": 54,
   "metadata": {
    "collapsed": false
   },
   "outputs": [
    {
     "name": "stdout",
     "output_type": "stream",
     "text": [
      "837799 no 14\n",
      "  56.279 milliseconds (5508 allocations: 8131 KB)\n",
      "837799 no 14\n",
      "  49.124 milliseconds (25 allocations: 7813 KB, 8.53% gc time)\n",
      "837799 no 14\n",
      "  38.878 milliseconds (25 allocations: 7813 KB)\n",
      "6857 no 3\n",
      "  25.510 microseconds (23 allocations: 832 bytes)\n",
      "6857 no 3\n",
      "  23.486 microseconds (23 allocations: 832 bytes)\n",
      "6857 no 3\n",
      "  23.282 microseconds (23 allocations: 832 bytes)\n",
      "31626 no 21\n",
      "   1.307 milliseconds (25 allocations: 235 KB)\n",
      "31626 no 21\n",
      "   1.307 milliseconds (25 allocations: 235 KB)\n",
      "31626 no 21\n",
      "   1.307 milliseconds (25 allocations: 235 KB)\n"
     ]
    }
   ],
   "source": [
    "main()"
   ]
  },
  {
   "cell_type": "code",
   "execution_count": 50,
   "metadata": {
    "collapsed": false
   },
   "outputs": [
    {
     "data": {
      "text/plain": [
       "sol21 (generic function with 1 method)"
      ]
     },
     "execution_count": 50,
     "metadata": {},
     "output_type": "execute_result"
    }
   ],
   "source": [
    "# runs in 1.3ms\n",
    "function sol21(n::Int)\n",
    "    lim ::Int, res::Int = 3*n, 0\n",
    "    llim :: Int = isqrt(lim)\n",
    "    refs :: Array{Int,1} = ones(Int,lim)\n",
    "    for i = 2:llim \n",
    "        refs[(i*i)] += i\n",
    "        for j = i*i+i:i:lim\n",
    "            refs[j] += i + div(j,i)\n",
    "        end\n",
    "    end\n",
    "    for i = 2:n\n",
    "        tmp :: Int = refs[i]\n",
    "        if i != tmp \n",
    "            if i == refs[tmp]\n",
    "                res += i\n",
    "            end\n",
    "        end\n",
    "    end\n",
    "    res\n",
    "end"
   ]
  },
  {
   "cell_type": "code",
   "execution_count": 48,
   "metadata": {
    "collapsed": false
   },
   "outputs": [
    {
     "data": {
      "text/plain": [
       "sol3 (generic function with 1 method)"
      ]
     },
     "execution_count": 48,
     "metadata": {},
     "output_type": "execute_result"
    }
   ],
   "source": [
    "# runs in 0.019ms\n",
    "function sol3(tar::Int)\n",
    "    i::Int, n :: Int, lim :: Int = 3,tar, isqrt(tar)\n",
    "    while (i <= lim)\n",
    "        while 0 == rem(n,i) && oddPrime(i)\n",
    "            n = div(n,i)\n",
    "            if 0 != n % i\n",
    "                lim = isqrt(n)\n",
    "            end\n",
    "        end\n",
    "        i += 2\n",
    "    end\n",
    "    return n\n",
    "end"
   ]
  },
  {
   "cell_type": "code",
   "execution_count": 23,
   "metadata": {
    "collapsed": false
   },
   "outputs": [
    {
     "data": {
      "text/plain": [
       "oddPrime (generic function with 1 method)"
      ]
     },
     "execution_count": 23,
     "metadata": {},
     "output_type": "execute_result"
    }
   ],
   "source": [
    "function oddPrime(n :: Int) \n",
    "    for i = 3:2:isqrt(n)\n",
    "        if 0 == rem(n,i)\n",
    "            return false\n",
    "        end\n",
    "    end\n",
    "    true\n",
    "end"
   ]
  },
  {
   "cell_type": "code",
   "execution_count": null,
   "metadata": {
    "collapsed": true
   },
   "outputs": [],
   "source": []
  },
  {
   "cell_type": "markdown",
   "metadata": {},
   "source": []
  },
  {
   "cell_type": "code",
   "execution_count": 15,
   "metadata": {
    "collapsed": false
   },
   "outputs": [
    {
     "data": {
      "text/plain": [
       "sol12 (generic function with 1 method)"
      ]
     },
     "execution_count": 15,
     "metadata": {},
     "output_type": "execute_result"
    }
   ],
   "source": [
    "# this one runs in 0.2ms\n",
    "function sol12(lim :: Int, tar :: Int)\n",
    "    faks :: Array = zeros(Int,lim)\n",
    "    llim :: Int = isqrt(lim)\n",
    "    for i = 1:llim \n",
    "        faks[(i*i)] += 1\n",
    "        for j = i*i+1:i:lim\n",
    "            faks[j] += 2\n",
    "        end\n",
    "    end\n",
    "    for i = llim:2:lim\n",
    "        itmp = 0 == rem(i,2) ? faks[i] - 2 : faks[i]\n",
    "        jtmp = 0 == rem(i+1,2) ? faks[(i+1)] - 2 : faks[(i+1)]\n",
    "        if itmp*jtmp > tar\n",
    "            return div(i*(i+1),2)\n",
    "        end\n",
    "    end\n",
    "end"
   ]
  },
  {
   "cell_type": "code",
   "execution_count": 53,
   "metadata": {
    "collapsed": false
   },
   "outputs": [
    {
     "data": {
      "text/plain": [
       "main (generic function with 1 method)"
      ]
     },
     "execution_count": 53,
     "metadata": {},
     "output_type": "execute_result"
    }
   ],
   "source": [
    "function main()\n",
    "    for i = 1:3\n",
    "        @time println(sol14(1000000), \" no 14\")\n",
    "    end\n",
    "    for i = 1:3\n",
    "        @time println(sol3(600851475143), \" no 3\")\n",
    "    end\n",
    "    for i = 1:3\n",
    "        @time println(sol21(10000) , \" no 21\")\n",
    "    end\n",
    "end"
   ]
  },
  {
   "cell_type": "code",
   "execution_count": 7,
   "metadata": {
    "collapsed": false
   },
   "outputs": [
    {
     "data": {
      "text/plain": [
       "sol14 (generic function with 1 method)"
      ]
     },
     "execution_count": 7,
     "metadata": {},
     "output_type": "execute_result"
    }
   ],
   "source": [
    "# runs in 42ms \n",
    "function sol14(lim :: Int) \n",
    "    refs :: Array{Int,1} = zeros(Int,lim)\n",
    "    for i = 1:lim\n",
    "        a :: Int, ctr :: Int = i,1\n",
    "        while a != 1 \n",
    "            if a > lim \n",
    "                ctr += 1\n",
    "                a = 0 == rem(a,2) ? div(a,2) : 3*a+1\n",
    "            else\n",
    "                tmp :: Int = refs[a]\n",
    "                if tmp == 0 \n",
    "                    ctr += 1\n",
    "                    a = 0 == rem(a,2) ? div(a,2) : 3*a+1\n",
    "                else \n",
    "                    ctr += tmp \n",
    "                    a = 1\n",
    "                end\n",
    "            end\n",
    "            refs[i] = ctr\n",
    "        end\n",
    "    end\n",
    "    maxi :: Int, cur :: Int = 0,1\n",
    "    for i = 1:lim \n",
    "        tmp = refs[i]\n",
    "        if tmp > maxi\n",
    "            maxi = tmp\n",
    "            cur = i\n",
    "        end\n",
    "    end\n",
    "    return cur\n",
    "end"
   ]
  }
 ],
 "metadata": {
  "kernelspec": {
   "display_name": "Julia 0.4.0-dev",
   "language": "julia",
   "name": "julia-0.4"
  },
  "language_info": {
   "name": "julia",
   "version": "0.4.0"
  }
 },
 "nbformat": 4,
 "nbformat_minor": 0
}
